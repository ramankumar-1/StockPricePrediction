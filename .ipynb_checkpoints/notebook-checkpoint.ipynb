{
 "cells": [
  {
   "cell_type": "code",
   "execution_count": 35,
   "id": "c944bcc1-132b-4b9c-ba99-7402c69a811f",
   "metadata": {},
   "outputs": [],
   "source": [
    "# importing necessary libraries\n",
    "\n",
    "import numpy as np\n",
    "import pandas as pd\n",
    "import matplotlib.pyplot as plt\n",
    "import mplfinance as mpf"
   ]
  },
  {
   "cell_type": "markdown",
   "id": "2750682d-7d93-46da-b0b2-06d66216d2fb",
   "metadata": {},
   "source": [
    "# Processing the data"
   ]
  },
  {
   "cell_type": "code",
   "execution_count": 59,
   "id": "62a7ed38-4f3f-4f2c-98c0-f7ce77eacdf8",
   "metadata": {},
   "outputs": [
    {
     "name": "stderr",
     "output_type": "stream",
     "text": [
      "C:\\Users\\raman\\AppData\\Local\\Temp\\ipykernel_20672\\2157354707.py:3: UserWarning: Could not infer format, so each element will be parsed individually, falling back to `dateutil`. To ensure parsing is consistent and as-expected, please specify a format.\n",
      "  raw_data=pd.read_csv(\"NIFTY 50-01-01-2024-to-31-12-2024.csv\", index_col=0, parse_dates=True)\n"
     ]
    },
    {
     "data": {
      "text/html": [
       "<div>\n",
       "<style scoped>\n",
       "    .dataframe tbody tr th:only-of-type {\n",
       "        vertical-align: middle;\n",
       "    }\n",
       "\n",
       "    .dataframe tbody tr th {\n",
       "        vertical-align: top;\n",
       "    }\n",
       "\n",
       "    .dataframe thead th {\n",
       "        text-align: right;\n",
       "    }\n",
       "</style>\n",
       "<table border=\"1\" class=\"dataframe\">\n",
       "  <thead>\n",
       "    <tr style=\"text-align: right;\">\n",
       "      <th></th>\n",
       "      <th>Open</th>\n",
       "      <th>High</th>\n",
       "      <th>Low</th>\n",
       "      <th>Close</th>\n",
       "      <th>Shares Traded</th>\n",
       "      <th>Turnover (₹ Cr)</th>\n",
       "    </tr>\n",
       "    <tr>\n",
       "      <th>Date</th>\n",
       "      <th></th>\n",
       "      <th></th>\n",
       "      <th></th>\n",
       "      <th></th>\n",
       "      <th></th>\n",
       "      <th></th>\n",
       "    </tr>\n",
       "  </thead>\n",
       "  <tbody>\n",
       "    <tr>\n",
       "      <th>2024-01-01</th>\n",
       "      <td>21727.75</td>\n",
       "      <td>21834.35</td>\n",
       "      <td>21680.85</td>\n",
       "      <td>21741.90</td>\n",
       "      <td>153995217.0</td>\n",
       "      <td>14184.09</td>\n",
       "    </tr>\n",
       "    <tr>\n",
       "      <th>2024-01-02</th>\n",
       "      <td>21751.35</td>\n",
       "      <td>21755.60</td>\n",
       "      <td>21555.65</td>\n",
       "      <td>21665.80</td>\n",
       "      <td>263711568.0</td>\n",
       "      <td>25316.13</td>\n",
       "    </tr>\n",
       "    <tr>\n",
       "      <th>2024-01-03</th>\n",
       "      <td>21661.10</td>\n",
       "      <td>21677.00</td>\n",
       "      <td>21500.35</td>\n",
       "      <td>21517.35</td>\n",
       "      <td>311933117.0</td>\n",
       "      <td>32329.23</td>\n",
       "    </tr>\n",
       "    <tr>\n",
       "      <th>2024-01-04</th>\n",
       "      <td>21605.80</td>\n",
       "      <td>21685.65</td>\n",
       "      <td>21564.55</td>\n",
       "      <td>21658.60</td>\n",
       "      <td>339172697.0</td>\n",
       "      <td>30868.15</td>\n",
       "    </tr>\n",
       "    <tr>\n",
       "      <th>2024-01-05</th>\n",
       "      <td>21705.75</td>\n",
       "      <td>21749.60</td>\n",
       "      <td>21629.20</td>\n",
       "      <td>21710.80</td>\n",
       "      <td>309303266.0</td>\n",
       "      <td>26554.49</td>\n",
       "    </tr>\n",
       "  </tbody>\n",
       "</table>\n",
       "</div>"
      ],
      "text/plain": [
       "               Open      High       Low     Close   Shares Traded   \\\n",
       "Date                                                                 \n",
       "2024-01-01  21727.75  21834.35  21680.85  21741.90     153995217.0   \n",
       "2024-01-02  21751.35  21755.60  21555.65  21665.80     263711568.0   \n",
       "2024-01-03  21661.10  21677.00  21500.35  21517.35     311933117.0   \n",
       "2024-01-04  21605.80  21685.65  21564.55  21658.60     339172697.0   \n",
       "2024-01-05  21705.75  21749.60  21629.20  21710.80     309303266.0   \n",
       "\n",
       "            Turnover (₹ Cr)  \n",
       "Date                         \n",
       "2024-01-01         14184.09  \n",
       "2024-01-02         25316.13  \n",
       "2024-01-03         32329.23  \n",
       "2024-01-04         30868.15  \n",
       "2024-01-05         26554.49  "
      ]
     },
     "execution_count": 59,
     "metadata": {},
     "output_type": "execute_result"
    }
   ],
   "source": [
    "# loading the data\n",
    "\n",
    "raw_data=pd.read_csv(\"NIFTY 50-01-01-2024-to-31-12-2024.csv\", index_col=0, parse_dates=True)\n",
    "raw_data.head()"
   ]
  },
  {
   "cell_type": "code",
   "execution_count": 60,
   "id": "f3f891fd-6fe1-4fa7-ae48-1231d9573001",
   "metadata": {},
   "outputs": [
    {
     "name": "stdout",
     "output_type": "stream",
     "text": [
      "<class 'pandas.core.frame.DataFrame'>\n",
      "DatetimeIndex: 249 entries, 2024-01-01 to 2024-12-31\n",
      "Data columns (total 6 columns):\n",
      " #   Column           Non-Null Count  Dtype  \n",
      "---  ------           --------------  -----  \n",
      " 0   Open             249 non-null    float64\n",
      " 1   High             249 non-null    float64\n",
      " 2   Low              249 non-null    float64\n",
      " 3   Close            249 non-null    float64\n",
      " 4   Shares Traded    248 non-null    float64\n",
      " 5   Turnover (₹ Cr)  248 non-null    float64\n",
      "dtypes: float64(6)\n",
      "memory usage: 13.6 KB\n"
     ]
    }
   ],
   "source": [
    "# Metadata of the dataframe\n",
    "\n",
    "raw_data.info()"
   ]
  },
  {
   "cell_type": "code",
   "execution_count": 61,
   "id": "6549d248-2766-4c7f-b78b-bb8eb877fda9",
   "metadata": {},
   "outputs": [
    {
     "data": {
      "text/html": [
       "<div>\n",
       "<style scoped>\n",
       "    .dataframe tbody tr th:only-of-type {\n",
       "        vertical-align: middle;\n",
       "    }\n",
       "\n",
       "    .dataframe tbody tr th {\n",
       "        vertical-align: top;\n",
       "    }\n",
       "\n",
       "    .dataframe thead th {\n",
       "        text-align: right;\n",
       "    }\n",
       "</style>\n",
       "<table border=\"1\" class=\"dataframe\">\n",
       "  <thead>\n",
       "    <tr style=\"text-align: right;\">\n",
       "      <th></th>\n",
       "      <th>Open</th>\n",
       "      <th>High</th>\n",
       "      <th>Low</th>\n",
       "      <th>Close</th>\n",
       "    </tr>\n",
       "    <tr>\n",
       "      <th>Date</th>\n",
       "      <th></th>\n",
       "      <th></th>\n",
       "      <th></th>\n",
       "      <th></th>\n",
       "    </tr>\n",
       "  </thead>\n",
       "  <tbody>\n",
       "    <tr>\n",
       "      <th>2024-01-01</th>\n",
       "      <td>21727.75</td>\n",
       "      <td>21834.35</td>\n",
       "      <td>21680.85</td>\n",
       "      <td>21741.90</td>\n",
       "    </tr>\n",
       "    <tr>\n",
       "      <th>2024-01-02</th>\n",
       "      <td>21751.35</td>\n",
       "      <td>21755.60</td>\n",
       "      <td>21555.65</td>\n",
       "      <td>21665.80</td>\n",
       "    </tr>\n",
       "    <tr>\n",
       "      <th>2024-01-03</th>\n",
       "      <td>21661.10</td>\n",
       "      <td>21677.00</td>\n",
       "      <td>21500.35</td>\n",
       "      <td>21517.35</td>\n",
       "    </tr>\n",
       "    <tr>\n",
       "      <th>2024-01-04</th>\n",
       "      <td>21605.80</td>\n",
       "      <td>21685.65</td>\n",
       "      <td>21564.55</td>\n",
       "      <td>21658.60</td>\n",
       "    </tr>\n",
       "    <tr>\n",
       "      <th>2024-01-05</th>\n",
       "      <td>21705.75</td>\n",
       "      <td>21749.60</td>\n",
       "      <td>21629.20</td>\n",
       "      <td>21710.80</td>\n",
       "    </tr>\n",
       "    <tr>\n",
       "      <th>...</th>\n",
       "      <td>...</td>\n",
       "      <td>...</td>\n",
       "      <td>...</td>\n",
       "      <td>...</td>\n",
       "    </tr>\n",
       "    <tr>\n",
       "      <th>2024-12-24</th>\n",
       "      <td>23769.10</td>\n",
       "      <td>23867.65</td>\n",
       "      <td>23685.15</td>\n",
       "      <td>23727.65</td>\n",
       "    </tr>\n",
       "    <tr>\n",
       "      <th>2024-12-26</th>\n",
       "      <td>23775.80</td>\n",
       "      <td>23854.50</td>\n",
       "      <td>23653.60</td>\n",
       "      <td>23750.20</td>\n",
       "    </tr>\n",
       "    <tr>\n",
       "      <th>2024-12-27</th>\n",
       "      <td>23801.40</td>\n",
       "      <td>23938.85</td>\n",
       "      <td>23800.60</td>\n",
       "      <td>23813.40</td>\n",
       "    </tr>\n",
       "    <tr>\n",
       "      <th>2024-12-30</th>\n",
       "      <td>23796.90</td>\n",
       "      <td>23915.35</td>\n",
       "      <td>23599.30</td>\n",
       "      <td>23644.90</td>\n",
       "    </tr>\n",
       "    <tr>\n",
       "      <th>2024-12-31</th>\n",
       "      <td>23560.60</td>\n",
       "      <td>23689.85</td>\n",
       "      <td>23460.45</td>\n",
       "      <td>23644.80</td>\n",
       "    </tr>\n",
       "  </tbody>\n",
       "</table>\n",
       "<p>249 rows × 4 columns</p>\n",
       "</div>"
      ],
      "text/plain": [
       "               Open      High       Low     Close \n",
       "Date                                              \n",
       "2024-01-01  21727.75  21834.35  21680.85  21741.90\n",
       "2024-01-02  21751.35  21755.60  21555.65  21665.80\n",
       "2024-01-03  21661.10  21677.00  21500.35  21517.35\n",
       "2024-01-04  21605.80  21685.65  21564.55  21658.60\n",
       "2024-01-05  21705.75  21749.60  21629.20  21710.80\n",
       "...              ...       ...       ...       ...\n",
       "2024-12-24  23769.10  23867.65  23685.15  23727.65\n",
       "2024-12-26  23775.80  23854.50  23653.60  23750.20\n",
       "2024-12-27  23801.40  23938.85  23800.60  23813.40\n",
       "2024-12-30  23796.90  23915.35  23599.30  23644.90\n",
       "2024-12-31  23560.60  23689.85  23460.45  23644.80\n",
       "\n",
       "[249 rows x 4 columns]"
      ]
     },
     "execution_count": 61,
     "metadata": {},
     "output_type": "execute_result"
    }
   ],
   "source": [
    "# considering only 4 columns \"Open\",\"High\",\"Low\", \"Close\" for the prediction task\n",
    "\n",
    "raw_data=raw_data[[\"Open \", \"High \", \"Low \", \"Close \"]]\n",
    "raw_data"
   ]
  },
  {
   "cell_type": "code",
   "execution_count": 62,
   "id": "13943dde-32b0-413b-89b6-ed23535b0129",
   "metadata": {},
   "outputs": [],
   "source": [
    "raw_data.columns=[\"Open\",\"High\",\"Low\",\"Close\"]"
   ]
  },
  {
   "cell_type": "code",
   "execution_count": 63,
   "id": "306fc645-c7ac-4f5a-a67b-a4e30bbcb70a",
   "metadata": {},
   "outputs": [
    {
     "data": {
      "text/plain": [
       "Open     0\n",
       "High     0\n",
       "Low      0\n",
       "Close    0\n",
       "dtype: int64"
      ]
     },
     "execution_count": 63,
     "metadata": {},
     "output_type": "execute_result"
    }
   ],
   "source": [
    "# checking for missing values\n",
    "\n",
    "raw_data.isna().sum()"
   ]
  },
  {
   "cell_type": "markdown",
   "id": "0ca08b71-9135-4e9a-b41c-f3a2ae98d306",
   "metadata": {},
   "source": [
    "# Data Visualization"
   ]
  },
  {
   "cell_type": "code",
   "execution_count": 64,
   "id": "46ea229a-c364-4090-858a-cb1f2e12e9f8",
   "metadata": {},
   "outputs": [
    {
     "data": {
      "image/png": "[encoded data removed]",
      "text/plain": [
       "<Figure size 800x575 with 2 Axes>"
      ]
     },
     "metadata": {},
     "output_type": "display_data"
    }
   ],
   "source": [
    "mpf.plot(raw_data)"
   ]
  },
  {
   "cell_type": "markdown",
   "id": "efd260c5-ffaa-4ce7-95bb-416a0d767e58",
   "metadata": {},
   "source": [
    "# Applying the Machine-learning algorithms"
   ]
  },
  {
   "cell_type": "code",
   "execution_count": null,
   "id": "6f726624-bcb0-4e0a-8333-ae7fd8861161",
   "metadata": {},
   "outputs": [],
   "source": []
  }
 ],
 "metadata": {
  "kernelspec": {
   "display_name": "Python 3 (ipykernel)",
   "language": "python",
   "name": "python3"
  },
  "language_info": {
   "codemirror_mode": {
    "name": "ipython",
    "version": 3
   },
   "file_extension": ".py",
   "mimetype": "text/x-python",
   "name": "python",
   "nbconvert_exporter": "python",
   "pygments_lexer": "ipython3",
   "version": "3.13.0"
  }
 },
 "nbformat": 4,
 "nbformat_minor": 5
}
